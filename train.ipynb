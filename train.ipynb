{
 "cells": [
  {
   "cell_type": "code",
   "execution_count": 1,
   "metadata": {},
   "outputs": [
    {
     "name": "stderr",
     "output_type": "stream",
     "text": [
      "c:\\Users\\Geetansh\\Desktop\\OCRplusplus\\Mlvenv\\Lib\\site-packages\\tqdm\\auto.py:21: TqdmWarning: IProgress not found. Please update jupyter and ipywidgets. See https://ipywidgets.readthedocs.io/en/stable/user_install.html\n",
      "  from .autonotebook import tqdm as notebook_tqdm\n",
      "Some weights of BertForTokenClassification were not initialized from the model checkpoint at bert-base-uncased and are newly initialized: ['classifier.bias', 'classifier.weight']\n",
      "You should probably TRAIN this model on a down-stream task to be able to use it for predictions and inference.\n"
     ]
    }
   ],
   "source": [
    "import torch\n",
    "from transformers import BertForTokenClassification, BertTokenizerFast\n",
    "from torch.utils.data import DataLoader, RandomSampler\n",
    "from torch.optim import Adam\n",
    "from UtilityFunctions.utilityFunctions1 import trim_entity_spans, convert_goldparse, ResumeDataset, tag2idx, idx2tag, get_hyperparameters, train_and_val_model\n",
    "\n",
    "output_path = '.' # Current directory\n",
    "\n",
    "MAX_LEN = 500\n",
    "EPOCHS = 5\n",
    "MAX_GRAD_NORM = 1.0\n",
    "MODEL_NAME = 'bert-base-uncased'\n",
    "TOKENIZER = BertTokenizerFast('./vocab/vocab.txt', lowercase=True)\n",
    "DEVICE = torch.device(\"cuda\" if torch.cuda.is_available() else \"cpu\")\n",
    "\n",
    "data = trim_entity_spans(convert_goldparse('data/Resumes.json'))\n",
    "\n",
    "total = len(data)\n",
    "train_data, val_data = data[:180], data[180:]\n",
    "\n",
    "train_d = ResumeDataset(train_data, TOKENIZER, tag2idx, MAX_LEN)\n",
    "val_d = ResumeDataset(val_data, TOKENIZER, tag2idx, MAX_LEN)\n",
    "\n",
    "train_sampler = RandomSampler(train_d)\n",
    "train_dl = DataLoader(train_d, sampler=train_sampler, batch_size=8)\n",
    "\n",
    "val_dl = DataLoader(val_d, batch_size=4)\n",
    "\n",
    "model = BertForTokenClassification.from_pretrained(\n",
    "    MODEL_NAME, num_labels=len(tag2idx))\n",
    "model.to(DEVICE)\n",
    "optimizer_grouped_parameters = get_hyperparameters(model, True)\n",
    "optimizer = Adam(optimizer_grouped_parameters, lr=3e-5)\n"
   ]
  },
  {
   "cell_type": "code",
   "execution_count": null,
   "metadata": {},
   "outputs": [],
   "source": [
    "train_and_val_model(\n",
    "    model,\n",
    "    TOKENIZER,\n",
    "    optimizer,\n",
    "    EPOCHS,\n",
    "    idx2tag,\n",
    "    tag2idx,\n",
    "    MAX_GRAD_NORM,\n",
    "    DEVICE,\n",
    "    train_dl,\n",
    "    val_dl\n",
    ")\n",
    "\n",
    "torch.save(\n",
    "    {\n",
    "        \"model_state_dict\": model.state_dict()\n",
    "    },\n",
    "    f'{output_path}/model-state.bin',\n",
    ")"
   ]
  }
 ],
 "metadata": {
  "kernelspec": {
   "display_name": "Mlvenv",
   "language": "python",
   "name": "python3"
  },
  "language_info": {
   "codemirror_mode": {
    "name": "ipython",
    "version": 3
   },
   "file_extension": ".py",
   "mimetype": "text/x-python",
   "name": "python",
   "nbconvert_exporter": "python",
   "pygments_lexer": "ipython3",
   "version": "3.13.2"
  }
 },
 "nbformat": 4,
 "nbformat_minor": 2
}
